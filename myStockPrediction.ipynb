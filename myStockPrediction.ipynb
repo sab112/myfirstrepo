{
  "nbformat": 4,
  "nbformat_minor": 0,
  "metadata": {
    "colab": {
      "name": "myStockPrediction.ipynb",
      "provenance": [],
      "collapsed_sections": [],
      "authorship_tag": "ABX9TyOhaPvXjEfSC8m6dftQUBj4",
      "include_colab_link": true
    },
    "kernelspec": {
      "name": "python3",
      "display_name": "Python 3"
    }
  },
  "cells": [
    {
      "cell_type": "markdown",
      "metadata": {
        "id": "view-in-github",
        "colab_type": "text"
      },
      "source": [
        "<a href=\"https://colab.research.google.com/github/sab112/myfirstrepo/blob/master/myStockPrediction.ipynb\" target=\"_parent\"><img src=\"https://colab.research.google.com/assets/colab-badge.svg\" alt=\"Open In Colab\"/></a>"
      ]
    },
    {
      "cell_type": "code",
      "metadata": {
        "id": "8noVGdEJIBxg",
        "colab_type": "code",
        "colab": {}
      },
      "source": [
        "import quandl\n",
        "import pandas as pd\n",
        "import numpy as np\n",
        "from sklearn.linear_model import LinearRegression\n",
        "from sklearn.svm import SVR\n",
        "from sklearn.model_selection import train_test_split"
      ],
      "execution_count": 200,
      "outputs": []
    },
    {
      "cell_type": "code",
      "metadata": {
        "id": "4dFYkAcaJxe9",
        "colab_type": "code",
        "colab": {
          "base_uri": "https://localhost:8080/",
          "height": 450
        },
        "outputId": "dfb04f99-6b3f-4256-9320-d73dddb4c9f1"
      },
      "source": [
        "quandl.ApiConfig.api_key='8sea8tfXW2CSAPzEYUoq'\n",
        "df= quandl.get('XNSE/BAJAJ_AUTO')\n",
        "df "
      ],
      "execution_count": 201,
      "outputs": [
        {
          "output_type": "execute_result",
          "data": {
            "text/html": [
              "<div>\n",
              "<style scoped>\n",
              "    .dataframe tbody tr th:only-of-type {\n",
              "        vertical-align: middle;\n",
              "    }\n",
              "\n",
              "    .dataframe tbody tr th {\n",
              "        vertical-align: top;\n",
              "    }\n",
              "\n",
              "    .dataframe thead th {\n",
              "        text-align: right;\n",
              "    }\n",
              "</style>\n",
              "<table border=\"1\" class=\"dataframe\">\n",
              "  <thead>\n",
              "    <tr style=\"text-align: right;\">\n",
              "      <th></th>\n",
              "      <th>Open</th>\n",
              "      <th>High</th>\n",
              "      <th>Low</th>\n",
              "      <th>Close</th>\n",
              "      <th>Volume</th>\n",
              "      <th>Adjustment Factor</th>\n",
              "      <th>Adjustment Type</th>\n",
              "    </tr>\n",
              "    <tr>\n",
              "      <th>Date</th>\n",
              "      <th></th>\n",
              "      <th></th>\n",
              "      <th></th>\n",
              "      <th></th>\n",
              "      <th></th>\n",
              "      <th></th>\n",
              "      <th></th>\n",
              "    </tr>\n",
              "  </thead>\n",
              "  <tbody>\n",
              "    <tr>\n",
              "      <th>2010-01-01</th>\n",
              "      <td>669.844609</td>\n",
              "      <td>669.844609</td>\n",
              "      <td>669.844609</td>\n",
              "      <td>669.844609</td>\n",
              "      <td>0.0</td>\n",
              "      <td>NaN</td>\n",
              "      <td>NaN</td>\n",
              "    </tr>\n",
              "    <tr>\n",
              "      <th>2010-01-04</th>\n",
              "      <td>673.738166</td>\n",
              "      <td>676.772851</td>\n",
              "      <td>658.488399</td>\n",
              "      <td>661.160448</td>\n",
              "      <td>381510.0</td>\n",
              "      <td>NaN</td>\n",
              "      <td>NaN</td>\n",
              "    </tr>\n",
              "    <tr>\n",
              "      <th>2010-01-05</th>\n",
              "      <td>667.554280</td>\n",
              "      <td>670.741654</td>\n",
              "      <td>652.743492</td>\n",
              "      <td>664.214219</td>\n",
              "      <td>463938.0</td>\n",
              "      <td>NaN</td>\n",
              "      <td>NaN</td>\n",
              "    </tr>\n",
              "    <tr>\n",
              "      <th>2010-01-06</th>\n",
              "      <td>668.012346</td>\n",
              "      <td>668.012346</td>\n",
              "      <td>650.892144</td>\n",
              "      <td>653.945915</td>\n",
              "      <td>465832.0</td>\n",
              "      <td>NaN</td>\n",
              "      <td>NaN</td>\n",
              "    </tr>\n",
              "    <tr>\n",
              "      <th>2010-01-07</th>\n",
              "      <td>657.705870</td>\n",
              "      <td>659.996198</td>\n",
              "      <td>639.421418</td>\n",
              "      <td>642.475188</td>\n",
              "      <td>329288.0</td>\n",
              "      <td>NaN</td>\n",
              "      <td>NaN</td>\n",
              "    </tr>\n",
              "    <tr>\n",
              "      <th>...</th>\n",
              "      <td>...</td>\n",
              "      <td>...</td>\n",
              "      <td>...</td>\n",
              "      <td>...</td>\n",
              "      <td>...</td>\n",
              "      <td>...</td>\n",
              "      <td>...</td>\n",
              "    </tr>\n",
              "    <tr>\n",
              "      <th>2018-12-25</th>\n",
              "      <td>2550.461719</td>\n",
              "      <td>2550.461719</td>\n",
              "      <td>2550.461719</td>\n",
              "      <td>2550.461719</td>\n",
              "      <td>0.0</td>\n",
              "      <td>NaN</td>\n",
              "      <td>NaN</td>\n",
              "    </tr>\n",
              "    <tr>\n",
              "      <th>2018-12-26</th>\n",
              "      <td>2540.211758</td>\n",
              "      <td>2574.003867</td>\n",
              "      <td>2499.305522</td>\n",
              "      <td>2559.775610</td>\n",
              "      <td>410582.0</td>\n",
              "      <td>NaN</td>\n",
              "      <td>NaN</td>\n",
              "    </tr>\n",
              "    <tr>\n",
              "      <th>2018-12-27</th>\n",
              "      <td>2587.202446</td>\n",
              "      <td>2587.296053</td>\n",
              "      <td>2524.204970</td>\n",
              "      <td>2562.022177</td>\n",
              "      <td>558049.0</td>\n",
              "      <td>NaN</td>\n",
              "      <td>NaN</td>\n",
              "    </tr>\n",
              "    <tr>\n",
              "      <th>2018-12-28</th>\n",
              "      <td>2577.841751</td>\n",
              "      <td>2583.504972</td>\n",
              "      <td>2538.386423</td>\n",
              "      <td>2543.768822</td>\n",
              "      <td>358369.0</td>\n",
              "      <td>NaN</td>\n",
              "      <td>NaN</td>\n",
              "    </tr>\n",
              "    <tr>\n",
              "      <th>2018-12-31</th>\n",
              "      <td>2562.958247</td>\n",
              "      <td>2586.359984</td>\n",
              "      <td>2536.748301</td>\n",
              "      <td>2546.249406</td>\n",
              "      <td>406069.0</td>\n",
              "      <td>NaN</td>\n",
              "      <td>NaN</td>\n",
              "    </tr>\n",
              "  </tbody>\n",
              "</table>\n",
              "<p>2347 rows × 7 columns</p>\n",
              "</div>"
            ],
            "text/plain": [
              "                   Open         High  ...  Adjustment Factor  Adjustment Type\n",
              "Date                                  ...                                    \n",
              "2010-01-01   669.844609   669.844609  ...                NaN              NaN\n",
              "2010-01-04   673.738166   676.772851  ...                NaN              NaN\n",
              "2010-01-05   667.554280   670.741654  ...                NaN              NaN\n",
              "2010-01-06   668.012346   668.012346  ...                NaN              NaN\n",
              "2010-01-07   657.705870   659.996198  ...                NaN              NaN\n",
              "...                 ...          ...  ...                ...              ...\n",
              "2018-12-25  2550.461719  2550.461719  ...                NaN              NaN\n",
              "2018-12-26  2540.211758  2574.003867  ...                NaN              NaN\n",
              "2018-12-27  2587.202446  2587.296053  ...                NaN              NaN\n",
              "2018-12-28  2577.841751  2583.504972  ...                NaN              NaN\n",
              "2018-12-31  2562.958247  2586.359984  ...                NaN              NaN\n",
              "\n",
              "[2347 rows x 7 columns]"
            ]
          },
          "metadata": {
            "tags": []
          },
          "execution_count": 201
        }
      ]
    },
    {
      "cell_type": "code",
      "metadata": {
        "id": "NRl1FL6pTRVj",
        "colab_type": "code",
        "colab": {
          "base_uri": "https://localhost:8080/",
          "height": 450
        },
        "outputId": "43385dc6-cac2-4731-bec1-572b89f683a3"
      },
      "source": [
        "cdf = df[['Close']] \n",
        "cdf "
      ],
      "execution_count": 202,
      "outputs": [
        {
          "output_type": "execute_result",
          "data": {
            "text/html": [
              "<div>\n",
              "<style scoped>\n",
              "    .dataframe tbody tr th:only-of-type {\n",
              "        vertical-align: middle;\n",
              "    }\n",
              "\n",
              "    .dataframe tbody tr th {\n",
              "        vertical-align: top;\n",
              "    }\n",
              "\n",
              "    .dataframe thead th {\n",
              "        text-align: right;\n",
              "    }\n",
              "</style>\n",
              "<table border=\"1\" class=\"dataframe\">\n",
              "  <thead>\n",
              "    <tr style=\"text-align: right;\">\n",
              "      <th></th>\n",
              "      <th>Close</th>\n",
              "    </tr>\n",
              "    <tr>\n",
              "      <th>Date</th>\n",
              "      <th></th>\n",
              "    </tr>\n",
              "  </thead>\n",
              "  <tbody>\n",
              "    <tr>\n",
              "      <th>2010-01-01</th>\n",
              "      <td>669.844609</td>\n",
              "    </tr>\n",
              "    <tr>\n",
              "      <th>2010-01-04</th>\n",
              "      <td>661.160448</td>\n",
              "    </tr>\n",
              "    <tr>\n",
              "      <th>2010-01-05</th>\n",
              "      <td>664.214219</td>\n",
              "    </tr>\n",
              "    <tr>\n",
              "      <th>2010-01-06</th>\n",
              "      <td>653.945915</td>\n",
              "    </tr>\n",
              "    <tr>\n",
              "      <th>2010-01-07</th>\n",
              "      <td>642.475188</td>\n",
              "    </tr>\n",
              "    <tr>\n",
              "      <th>...</th>\n",
              "      <td>...</td>\n",
              "    </tr>\n",
              "    <tr>\n",
              "      <th>2018-12-25</th>\n",
              "      <td>2550.461719</td>\n",
              "    </tr>\n",
              "    <tr>\n",
              "      <th>2018-12-26</th>\n",
              "      <td>2559.775610</td>\n",
              "    </tr>\n",
              "    <tr>\n",
              "      <th>2018-12-27</th>\n",
              "      <td>2562.022177</td>\n",
              "    </tr>\n",
              "    <tr>\n",
              "      <th>2018-12-28</th>\n",
              "      <td>2543.768822</td>\n",
              "    </tr>\n",
              "    <tr>\n",
              "      <th>2018-12-31</th>\n",
              "      <td>2546.249406</td>\n",
              "    </tr>\n",
              "  </tbody>\n",
              "</table>\n",
              "<p>2347 rows × 1 columns</p>\n",
              "</div>"
            ],
            "text/plain": [
              "                  Close\n",
              "Date                   \n",
              "2010-01-01   669.844609\n",
              "2010-01-04   661.160448\n",
              "2010-01-05   664.214219\n",
              "2010-01-06   653.945915\n",
              "2010-01-07   642.475188\n",
              "...                 ...\n",
              "2018-12-25  2550.461719\n",
              "2018-12-26  2559.775610\n",
              "2018-12-27  2562.022177\n",
              "2018-12-28  2543.768822\n",
              "2018-12-31  2546.249406\n",
              "\n",
              "[2347 rows x 1 columns]"
            ]
          },
          "metadata": {
            "tags": []
          },
          "execution_count": 202
        }
      ]
    },
    {
      "cell_type": "code",
      "metadata": {
        "id": "tvMglOYgUAel",
        "colab_type": "code",
        "colab": {
          "base_uri": "https://localhost:8080/",
          "height": 552
        },
        "outputId": "3cf9ff10-2ea3-4dfc-dc30-a42604d3bd78"
      },
      "source": [
        "forecast_out = 30\n",
        "cdf['prediction_col'] = cdf[['Close']].shift(-forecast_out) #new column is added with data from close column, but no first 30 in Close column(list of lists)\n",
        "cdf"
      ],
      "execution_count": 203,
      "outputs": [
        {
          "output_type": "stream",
          "text": [
            "/usr/local/lib/python3.6/dist-packages/ipykernel_launcher.py:2: SettingWithCopyWarning: \n",
            "A value is trying to be set on a copy of a slice from a DataFrame.\n",
            "Try using .loc[row_indexer,col_indexer] = value instead\n",
            "\n",
            "See the caveats in the documentation: https://pandas.pydata.org/pandas-docs/stable/user_guide/indexing.html#returning-a-view-versus-a-copy\n",
            "  \n"
          ],
          "name": "stderr"
        },
        {
          "output_type": "execute_result",
          "data": {
            "text/html": [
              "<div>\n",
              "<style scoped>\n",
              "    .dataframe tbody tr th:only-of-type {\n",
              "        vertical-align: middle;\n",
              "    }\n",
              "\n",
              "    .dataframe tbody tr th {\n",
              "        vertical-align: top;\n",
              "    }\n",
              "\n",
              "    .dataframe thead th {\n",
              "        text-align: right;\n",
              "    }\n",
              "</style>\n",
              "<table border=\"1\" class=\"dataframe\">\n",
              "  <thead>\n",
              "    <tr style=\"text-align: right;\">\n",
              "      <th></th>\n",
              "      <th>Close</th>\n",
              "      <th>prediction_col</th>\n",
              "    </tr>\n",
              "    <tr>\n",
              "      <th>Date</th>\n",
              "      <th></th>\n",
              "      <th></th>\n",
              "    </tr>\n",
              "  </thead>\n",
              "  <tbody>\n",
              "    <tr>\n",
              "      <th>2010-01-01</th>\n",
              "      <td>669.844609</td>\n",
              "      <td>682.804048</td>\n",
              "    </tr>\n",
              "    <tr>\n",
              "      <th>2010-01-04</th>\n",
              "      <td>661.160448</td>\n",
              "      <td>684.292761</td>\n",
              "    </tr>\n",
              "    <tr>\n",
              "      <th>2010-01-05</th>\n",
              "      <td>664.214219</td>\n",
              "      <td>686.144110</td>\n",
              "    </tr>\n",
              "    <tr>\n",
              "      <th>2010-01-06</th>\n",
              "      <td>653.945915</td>\n",
              "      <td>702.042804</td>\n",
              "    </tr>\n",
              "    <tr>\n",
              "      <th>2010-01-07</th>\n",
              "      <td>642.475188</td>\n",
              "      <td>691.869930</td>\n",
              "    </tr>\n",
              "    <tr>\n",
              "      <th>...</th>\n",
              "      <td>...</td>\n",
              "      <td>...</td>\n",
              "    </tr>\n",
              "    <tr>\n",
              "      <th>2018-12-25</th>\n",
              "      <td>2550.461719</td>\n",
              "      <td>NaN</td>\n",
              "    </tr>\n",
              "    <tr>\n",
              "      <th>2018-12-26</th>\n",
              "      <td>2559.775610</td>\n",
              "      <td>NaN</td>\n",
              "    </tr>\n",
              "    <tr>\n",
              "      <th>2018-12-27</th>\n",
              "      <td>2562.022177</td>\n",
              "      <td>NaN</td>\n",
              "    </tr>\n",
              "    <tr>\n",
              "      <th>2018-12-28</th>\n",
              "      <td>2543.768822</td>\n",
              "      <td>NaN</td>\n",
              "    </tr>\n",
              "    <tr>\n",
              "      <th>2018-12-31</th>\n",
              "      <td>2546.249406</td>\n",
              "      <td>NaN</td>\n",
              "    </tr>\n",
              "  </tbody>\n",
              "</table>\n",
              "<p>2347 rows × 2 columns</p>\n",
              "</div>"
            ],
            "text/plain": [
              "                  Close  prediction_col\n",
              "Date                                   \n",
              "2010-01-01   669.844609      682.804048\n",
              "2010-01-04   661.160448      684.292761\n",
              "2010-01-05   664.214219      686.144110\n",
              "2010-01-06   653.945915      702.042804\n",
              "2010-01-07   642.475188      691.869930\n",
              "...                 ...             ...\n",
              "2018-12-25  2550.461719             NaN\n",
              "2018-12-26  2559.775610             NaN\n",
              "2018-12-27  2562.022177             NaN\n",
              "2018-12-28  2543.768822             NaN\n",
              "2018-12-31  2546.249406             NaN\n",
              "\n",
              "[2347 rows x 2 columns]"
            ]
          },
          "metadata": {
            "tags": []
          },
          "execution_count": 203
        }
      ]
    },
    {
      "cell_type": "code",
      "metadata": {
        "id": "2HwqzgKsWla5",
        "colab_type": "code",
        "colab": {
          "base_uri": "https://localhost:8080/",
          "height": 391
        },
        "outputId": "85fe0c10-c8bf-494d-d97f-02af3586529f"
      },
      "source": [
        "x = np.array(cdf.drop(['prediction_col'],1))  #Close column alone, prediction_column is dropped\n",
        "x = x[:-forecast_out]                         #removing last 30 rows\n",
        "print(cdf)\n",
        "print(x)"
      ],
      "execution_count": 204,
      "outputs": [
        {
          "output_type": "stream",
          "text": [
            "                  Close  prediction_col\n",
            "Date                                   \n",
            "2010-01-01   669.844609      682.804048\n",
            "2010-01-04   661.160448      684.292761\n",
            "2010-01-05   664.214219      686.144110\n",
            "2010-01-06   653.945915      702.042804\n",
            "2010-01-07   642.475188      691.869930\n",
            "...                 ...             ...\n",
            "2018-12-25  2550.461719             NaN\n",
            "2018-12-26  2559.775610             NaN\n",
            "2018-12-27  2562.022177             NaN\n",
            "2018-12-28  2543.768822             NaN\n",
            "2018-12-31  2546.249406             NaN\n",
            "\n",
            "[2347 rows x 2 columns]\n",
            "[[ 669.844609]\n",
            " [ 661.160448]\n",
            " [ 664.214219]\n",
            " ...\n",
            " [2498.229042]\n",
            " [2523.034883]\n",
            " [2508.338592]]\n"
          ],
          "name": "stdout"
        }
      ]
    },
    {
      "cell_type": "code",
      "metadata": {
        "id": "gmh2eJcJdboi",
        "colab_type": "code",
        "colab": {
          "base_uri": "https://localhost:8080/",
          "height": 51
        },
        "outputId": "50d3198d-c08c-46ca-be32-cc96222180b8"
      },
      "source": [
        "y = np.array(cdf['prediction_col'])   #prediction_column column alone, but this 1D, if you want 2D like x, give 1 more [] - cdf[['prediction_col']]\n",
        "y = y[:-forecast_out]                 #removing last 30 rows\n",
        "y                                     # x - feature, y - label/target. x is 2D(list of lists(but here 1D is represented in 2D)), y is 1D(list)\n",
        "                                      #so that 1 close column is mapped with every prediction_col in ML algo to create a model"
      ],
      "execution_count": 205,
      "outputs": [
        {
          "output_type": "execute_result",
          "data": {
            "text/plain": [
              "array([ 682.804048,  684.292761,  686.14411 , ..., 2562.022177,\n",
              "       2543.768822, 2546.249406])"
            ]
          },
          "metadata": {
            "tags": []
          },
          "execution_count": 205
        }
      ]
    },
    {
      "cell_type": "code",
      "metadata": {
        "id": "zz-63q-7ekDt",
        "colab_type": "code",
        "colab": {}
      },
      "source": [
        "x_train, x_test, y_train, y_test = train_test_split(x, y, test_size=0.2)   #split the data, 80% for training, 20% for testing "
      ],
      "execution_count": 206,
      "outputs": []
    },
    {
      "cell_type": "code",
      "metadata": {
        "id": "226IK_fXgpZr",
        "colab_type": "code",
        "colab": {
          "base_uri": "https://localhost:8080/",
          "height": 51
        },
        "outputId": "0c688b11-c8eb-4945-f015-de05c1a9e8d6"
      },
      "source": [
        "svr_rbf = SVR(kernel='rbf',C=1e3,gamma=0.1)        #construct/instanciate SVR algo class\n",
        "svr_rbf.fit(x_train,y_train)                       #fit/create a model with feature,lable/target"
      ],
      "execution_count": 207,
      "outputs": [
        {
          "output_type": "execute_result",
          "data": {
            "text/plain": [
              "SVR(C=1000.0, cache_size=200, coef0=0.0, degree=3, epsilon=0.1, gamma=0.1,\n",
              "    kernel='rbf', max_iter=-1, shrinking=True, tol=0.001, verbose=False)"
            ]
          },
          "metadata": {
            "tags": []
          },
          "execution_count": 207
        }
      ]
    },
    {
      "cell_type": "code",
      "metadata": {
        "id": "3f7eYPFriwcS",
        "colab_type": "code",
        "colab": {
          "base_uri": "https://localhost:8080/",
          "height": 34
        },
        "outputId": "1f904be7-6e53-41ca-f596-7e7c2313d44b"
      },
      "source": [
        "lr = LinearRegression()                      #construct/instanciate LinearRegression algo class\n",
        "lr.fit(x_train,y_train)                      #fit/create a model with feature,lable/target"
      ],
      "execution_count": 208,
      "outputs": [
        {
          "output_type": "execute_result",
          "data": {
            "text/plain": [
              "LinearRegression(copy_X=True, fit_intercept=True, n_jobs=None, normalize=False)"
            ]
          },
          "metadata": {
            "tags": []
          },
          "execution_count": 208
        }
      ]
    },
    {
      "cell_type": "code",
      "metadata": {
        "id": "wfK-7r1Nh121",
        "colab_type": "code",
        "colab": {
          "base_uri": "https://localhost:8080/",
          "height": 51
        },
        "outputId": "77817964-ede2-4cc3-e300-56e1f1ebdc33"
      },
      "source": [
        "predict_score_svr = svr_rbf.score(x_test,y_test)   #get accurancy of predition of model created with trainf data, \n",
        "                                                   #by calling score(20%test_feature, 20%test_lable)\n",
        "print(predict_score_svr)\n",
        "predict_score_lr = lr.score(x_test,y_test)\n",
        "print(predict_score_lr)"
      ],
      "execution_count": 209,
      "outputs": [
        {
          "output_type": "stream",
          "text": [
            "0.8898923347709302\n",
            "0.950540909292394\n"
          ],
          "name": "stdout"
        }
      ]
    },
    {
      "cell_type": "code",
      "metadata": {
        "id": "s4m1GZnIjefy",
        "colab_type": "code",
        "colab": {
          "base_uri": "https://localhost:8080/",
          "height": 544
        },
        "outputId": "e9cfb97e-e548-4373-b630-ff4542c245ce"
      },
      "source": [
        "x_forecast = np.array(cdf.drop(['prediction_col'],1))  #prediction_column column alone, but this 1D, if you want 2D like x, give 1 more [] - cdf[['prediction_col']]\n",
        "x_forecast = x_forecast[-forecast_out:]                #this time take only last 30\n",
        "print(x_forecast.shape)\n",
        "print(x_forecast)"
      ],
      "execution_count": 210,
      "outputs": [
        {
          "output_type": "stream",
          "text": [
            "(30, 1)\n",
            "[[2496.029279]\n",
            " [2438.133381]\n",
            " [2424.747587]\n",
            " [2424.747587]\n",
            " [2480.116097]\n",
            " [2433.453034]\n",
            " [2437.431329]\n",
            " [2549.853274]\n",
            " [2570.165982]\n",
            " [2561.086108]\n",
            " [2587.155643]\n",
            " [2587.38966 ]\n",
            " [2544.330464]\n",
            " [2608.076796]\n",
            " [2550.88295 ]\n",
            " [2564.455958]\n",
            " [2666.300318]\n",
            " [2654.786663]\n",
            " [2642.664563]\n",
            " [2659.3266  ]\n",
            " [2659.279797]\n",
            " [2679.966932]\n",
            " [2702.619814]\n",
            " [2628.904342]\n",
            " [2550.461719]\n",
            " [2550.461719]\n",
            " [2559.77561 ]\n",
            " [2562.022177]\n",
            " [2543.768822]\n",
            " [2546.249406]]\n"
          ],
          "name": "stdout"
        }
      ]
    },
    {
      "cell_type": "code",
      "metadata": {
        "id": "TABl_b-nloMg",
        "colab_type": "code",
        "colab": {
          "base_uri": "https://localhost:8080/",
          "height": 221
        },
        "outputId": "49c9ce63-e721-486b-8a7d-5427527d3a2c"
      },
      "source": [
        "svr_rbf_predict = svr_rbf.predict(x_forecast)   #svr model's predict..last 30 Close column's prediction_col(label) by passing feature alone\n",
        "print(svr_rbf_predict)\n",
        "lr_predict = lr.predict(x_forecast)            #lr model's predict..last 30 Close column's prediction_col(label) by passing feature alone\n",
        "print(lr_predict)"
      ],
      "execution_count": 211,
      "outputs": [
        {
          "output_type": "stream",
          "text": [
            "[2613.09007255 2520.39700612 2412.58534978 2412.58534978 2568.49672676\n",
            " 2571.95888577 2483.49866321 2594.73490603 2608.88657209 2520.4599931\n",
            " 2549.9229074  2552.21549101 2559.07107903 2622.97688372 2560.32269208\n",
            " 2571.56341272 2423.19866734 2473.07180417 2507.78012695 2632.99262789\n",
            " 2630.9146945  2552.44594085 2572.85420514 2575.18278062 2573.09030681\n",
            " 2573.09030681 2544.22188944 2508.76164407 2538.76782652 2560.10698226]\n",
            "[2495.74536022 2440.05657235 2427.18107221 2427.18107221 2480.43882128\n",
            " 2435.55464976 2439.38128401 2547.51747436 2567.05582035 2558.32208974\n",
            " 2583.3978007  2583.6228965  2542.20520518 2603.52139653 2548.507897\n",
            " 2561.56347416 2659.5253187  2648.45058779 2636.79060706 2652.8174531\n",
            " 2652.77243433 2672.6709334  2694.46024117 2623.55495385 2548.10272419\n",
            " 2548.10272419 2557.0615506  2559.22247387 2541.66497412 2544.05099318]\n"
          ],
          "name": "stdout"
        }
      ]
    }
  ]
}
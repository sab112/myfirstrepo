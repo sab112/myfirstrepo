{
  "nbformat": 4,
  "nbformat_minor": 0,
  "metadata": {
    "colab": {
      "name": "myStockPrediction.ipynb",
      "provenance": [],
      "collapsed_sections": [],
      "authorship_tag": "ABX9TyMt1ZJOndW8wMRaCUJE3jsQ",
      "include_colab_link": true
    },
    "kernelspec": {
      "name": "python3",
      "display_name": "Python 3"
    }
  },
  "cells": [
    {
      "cell_type": "markdown",
      "metadata": {
        "id": "view-in-github",
        "colab_type": "text"
      },
      "source": [
        "<a href=\"https://colab.research.google.com/github/sab112/myfirstrepo/blob/master/myStockPrediction.ipynb\" target=\"_parent\"><img src=\"https://colab.research.google.com/assets/colab-badge.svg\" alt=\"Open In Colab\"/></a>"
      ]
    },
    {
      "cell_type": "code",
      "metadata": {
        "id": "8noVGdEJIBxg",
        "colab_type": "code",
        "colab": {}
      },
      "source": [
        "#take a column as 'feature', use same column as 'label' to create a model and predict next in the sequence \n",
        "import quandl\n",
        "import pandas as pd\n",
        "import numpy as np\n",
        "from sklearn.linear_model import LinearRegression\n",
        "from sklearn.svm import SVR\n",
        "from sklearn.model_selection import train_test_split"
      ],
      "execution_count": 224,
      "outputs": []
    },
    {
      "cell_type": "code",
      "metadata": {
        "id": "4dFYkAcaJxe9",
        "colab_type": "code",
        "colab": {
          "base_uri": "https://localhost:8080/",
          "height": 450
        },
        "outputId": "99bab097-64dd-4d27-e351-ad61141106fa"
      },
      "source": [
        "quandl.ApiConfig.api_key='8sea8tfXW2CSAPzEYUoq'\n",
        "df= quandl.get('XNSE/BAJAJ_AUTO')\n",
        "df "
      ],
      "execution_count": 225,
      "outputs": [
        {
          "output_type": "execute_result",
          "data": {
            "text/html": [
              "<div>\n",
              "<style scoped>\n",
              "    .dataframe tbody tr th:only-of-type {\n",
              "        vertical-align: middle;\n",
              "    }\n",
              "\n",
              "    .dataframe tbody tr th {\n",
              "        vertical-align: top;\n",
              "    }\n",
              "\n",
              "    .dataframe thead th {\n",
              "        text-align: right;\n",
              "    }\n",
              "</style>\n",
              "<table border=\"1\" class=\"dataframe\">\n",
              "  <thead>\n",
              "    <tr style=\"text-align: right;\">\n",
              "      <th></th>\n",
              "      <th>Open</th>\n",
              "      <th>High</th>\n",
              "      <th>Low</th>\n",
              "      <th>Close</th>\n",
              "      <th>Volume</th>\n",
              "      <th>Adjustment Factor</th>\n",
              "      <th>Adjustment Type</th>\n",
              "    </tr>\n",
              "    <tr>\n",
              "      <th>Date</th>\n",
              "      <th></th>\n",
              "      <th></th>\n",
              "      <th></th>\n",
              "      <th></th>\n",
              "      <th></th>\n",
              "      <th></th>\n",
              "      <th></th>\n",
              "    </tr>\n",
              "  </thead>\n",
              "  <tbody>\n",
              "    <tr>\n",
              "      <th>2010-01-01</th>\n",
              "      <td>669.844609</td>\n",
              "      <td>669.844609</td>\n",
              "      <td>669.844609</td>\n",
              "      <td>669.844609</td>\n",
              "      <td>0.0</td>\n",
              "      <td>NaN</td>\n",
              "      <td>NaN</td>\n",
              "    </tr>\n",
              "    <tr>\n",
              "      <th>2010-01-04</th>\n",
              "      <td>673.738166</td>\n",
              "      <td>676.772851</td>\n",
              "      <td>658.488399</td>\n",
              "      <td>661.160448</td>\n",
              "      <td>381510.0</td>\n",
              "      <td>NaN</td>\n",
              "      <td>NaN</td>\n",
              "    </tr>\n",
              "    <tr>\n",
              "      <th>2010-01-05</th>\n",
              "      <td>667.554280</td>\n",
              "      <td>670.741654</td>\n",
              "      <td>652.743492</td>\n",
              "      <td>664.214219</td>\n",
              "      <td>463938.0</td>\n",
              "      <td>NaN</td>\n",
              "      <td>NaN</td>\n",
              "    </tr>\n",
              "    <tr>\n",
              "      <th>2010-01-06</th>\n",
              "      <td>668.012346</td>\n",
              "      <td>668.012346</td>\n",
              "      <td>650.892144</td>\n",
              "      <td>653.945915</td>\n",
              "      <td>465832.0</td>\n",
              "      <td>NaN</td>\n",
              "      <td>NaN</td>\n",
              "    </tr>\n",
              "    <tr>\n",
              "      <th>2010-01-07</th>\n",
              "      <td>657.705870</td>\n",
              "      <td>659.996198</td>\n",
              "      <td>639.421418</td>\n",
              "      <td>642.475188</td>\n",
              "      <td>329288.0</td>\n",
              "      <td>NaN</td>\n",
              "      <td>NaN</td>\n",
              "    </tr>\n",
              "    <tr>\n",
              "      <th>...</th>\n",
              "      <td>...</td>\n",
              "      <td>...</td>\n",
              "      <td>...</td>\n",
              "      <td>...</td>\n",
              "      <td>...</td>\n",
              "      <td>...</td>\n",
              "      <td>...</td>\n",
              "    </tr>\n",
              "    <tr>\n",
              "      <th>2018-12-25</th>\n",
              "      <td>2550.461719</td>\n",
              "      <td>2550.461719</td>\n",
              "      <td>2550.461719</td>\n",
              "      <td>2550.461719</td>\n",
              "      <td>0.0</td>\n",
              "      <td>NaN</td>\n",
              "      <td>NaN</td>\n",
              "    </tr>\n",
              "    <tr>\n",
              "      <th>2018-12-26</th>\n",
              "      <td>2540.211758</td>\n",
              "      <td>2574.003867</td>\n",
              "      <td>2499.305522</td>\n",
              "      <td>2559.775610</td>\n",
              "      <td>410582.0</td>\n",
              "      <td>NaN</td>\n",
              "      <td>NaN</td>\n",
              "    </tr>\n",
              "    <tr>\n",
              "      <th>2018-12-27</th>\n",
              "      <td>2587.202446</td>\n",
              "      <td>2587.296053</td>\n",
              "      <td>2524.204970</td>\n",
              "      <td>2562.022177</td>\n",
              "      <td>558049.0</td>\n",
              "      <td>NaN</td>\n",
              "      <td>NaN</td>\n",
              "    </tr>\n",
              "    <tr>\n",
              "      <th>2018-12-28</th>\n",
              "      <td>2577.841751</td>\n",
              "      <td>2583.504972</td>\n",
              "      <td>2538.386423</td>\n",
              "      <td>2543.768822</td>\n",
              "      <td>358369.0</td>\n",
              "      <td>NaN</td>\n",
              "      <td>NaN</td>\n",
              "    </tr>\n",
              "    <tr>\n",
              "      <th>2018-12-31</th>\n",
              "      <td>2562.958247</td>\n",
              "      <td>2586.359984</td>\n",
              "      <td>2536.748301</td>\n",
              "      <td>2546.249406</td>\n",
              "      <td>406069.0</td>\n",
              "      <td>NaN</td>\n",
              "      <td>NaN</td>\n",
              "    </tr>\n",
              "  </tbody>\n",
              "</table>\n",
              "<p>2347 rows × 7 columns</p>\n",
              "</div>"
            ],
            "text/plain": [
              "                   Open         High  ...  Adjustment Factor  Adjustment Type\n",
              "Date                                  ...                                    \n",
              "2010-01-01   669.844609   669.844609  ...                NaN              NaN\n",
              "2010-01-04   673.738166   676.772851  ...                NaN              NaN\n",
              "2010-01-05   667.554280   670.741654  ...                NaN              NaN\n",
              "2010-01-06   668.012346   668.012346  ...                NaN              NaN\n",
              "2010-01-07   657.705870   659.996198  ...                NaN              NaN\n",
              "...                 ...          ...  ...                ...              ...\n",
              "2018-12-25  2550.461719  2550.461719  ...                NaN              NaN\n",
              "2018-12-26  2540.211758  2574.003867  ...                NaN              NaN\n",
              "2018-12-27  2587.202446  2587.296053  ...                NaN              NaN\n",
              "2018-12-28  2577.841751  2583.504972  ...                NaN              NaN\n",
              "2018-12-31  2562.958247  2586.359984  ...                NaN              NaN\n",
              "\n",
              "[2347 rows x 7 columns]"
            ]
          },
          "metadata": {
            "tags": []
          },
          "execution_count": 225
        }
      ]
    },
    {
      "cell_type": "code",
      "metadata": {
        "id": "NRl1FL6pTRVj",
        "colab_type": "code",
        "colab": {
          "base_uri": "https://localhost:8080/",
          "height": 450
        },
        "outputId": "4d6a7630-5f0b-4837-afff-614148382765"
      },
      "source": [
        "cdf = df[['Close']] \n",
        "cdf "
      ],
      "execution_count": 226,
      "outputs": [
        {
          "output_type": "execute_result",
          "data": {
            "text/html": [
              "<div>\n",
              "<style scoped>\n",
              "    .dataframe tbody tr th:only-of-type {\n",
              "        vertical-align: middle;\n",
              "    }\n",
              "\n",
              "    .dataframe tbody tr th {\n",
              "        vertical-align: top;\n",
              "    }\n",
              "\n",
              "    .dataframe thead th {\n",
              "        text-align: right;\n",
              "    }\n",
              "</style>\n",
              "<table border=\"1\" class=\"dataframe\">\n",
              "  <thead>\n",
              "    <tr style=\"text-align: right;\">\n",
              "      <th></th>\n",
              "      <th>Close</th>\n",
              "    </tr>\n",
              "    <tr>\n",
              "      <th>Date</th>\n",
              "      <th></th>\n",
              "    </tr>\n",
              "  </thead>\n",
              "  <tbody>\n",
              "    <tr>\n",
              "      <th>2010-01-01</th>\n",
              "      <td>669.844609</td>\n",
              "    </tr>\n",
              "    <tr>\n",
              "      <th>2010-01-04</th>\n",
              "      <td>661.160448</td>\n",
              "    </tr>\n",
              "    <tr>\n",
              "      <th>2010-01-05</th>\n",
              "      <td>664.214219</td>\n",
              "    </tr>\n",
              "    <tr>\n",
              "      <th>2010-01-06</th>\n",
              "      <td>653.945915</td>\n",
              "    </tr>\n",
              "    <tr>\n",
              "      <th>2010-01-07</th>\n",
              "      <td>642.475188</td>\n",
              "    </tr>\n",
              "    <tr>\n",
              "      <th>...</th>\n",
              "      <td>...</td>\n",
              "    </tr>\n",
              "    <tr>\n",
              "      <th>2018-12-25</th>\n",
              "      <td>2550.461719</td>\n",
              "    </tr>\n",
              "    <tr>\n",
              "      <th>2018-12-26</th>\n",
              "      <td>2559.775610</td>\n",
              "    </tr>\n",
              "    <tr>\n",
              "      <th>2018-12-27</th>\n",
              "      <td>2562.022177</td>\n",
              "    </tr>\n",
              "    <tr>\n",
              "      <th>2018-12-28</th>\n",
              "      <td>2543.768822</td>\n",
              "    </tr>\n",
              "    <tr>\n",
              "      <th>2018-12-31</th>\n",
              "      <td>2546.249406</td>\n",
              "    </tr>\n",
              "  </tbody>\n",
              "</table>\n",
              "<p>2347 rows × 1 columns</p>\n",
              "</div>"
            ],
            "text/plain": [
              "                  Close\n",
              "Date                   \n",
              "2010-01-01   669.844609\n",
              "2010-01-04   661.160448\n",
              "2010-01-05   664.214219\n",
              "2010-01-06   653.945915\n",
              "2010-01-07   642.475188\n",
              "...                 ...\n",
              "2018-12-25  2550.461719\n",
              "2018-12-26  2559.775610\n",
              "2018-12-27  2562.022177\n",
              "2018-12-28  2543.768822\n",
              "2018-12-31  2546.249406\n",
              "\n",
              "[2347 rows x 1 columns]"
            ]
          },
          "metadata": {
            "tags": []
          },
          "execution_count": 226
        }
      ]
    },
    {
      "cell_type": "code",
      "metadata": {
        "id": "tvMglOYgUAel",
        "colab_type": "code",
        "colab": {
          "base_uri": "https://localhost:8080/",
          "height": 552
        },
        "outputId": "ebeae5a0-082e-41b4-b047-55b62f14a702"
      },
      "source": [
        "forecast_out = 30\n",
        "cdf['prediction_col'] = cdf[['Close']].shift(-forecast_out) #new column is added with data from close column, but no first 30 in Close column(list of lists)\n",
        "cdf"
      ],
      "execution_count": 227,
      "outputs": [
        {
          "output_type": "stream",
          "text": [
            "/usr/local/lib/python3.6/dist-packages/ipykernel_launcher.py:2: SettingWithCopyWarning: \n",
            "A value is trying to be set on a copy of a slice from a DataFrame.\n",
            "Try using .loc[row_indexer,col_indexer] = value instead\n",
            "\n",
            "See the caveats in the documentation: https://pandas.pydata.org/pandas-docs/stable/user_guide/indexing.html#returning-a-view-versus-a-copy\n",
            "  \n"
          ],
          "name": "stderr"
        },
        {
          "output_type": "execute_result",
          "data": {
            "text/html": [
              "<div>\n",
              "<style scoped>\n",
              "    .dataframe tbody tr th:only-of-type {\n",
              "        vertical-align: middle;\n",
              "    }\n",
              "\n",
              "    .dataframe tbody tr th {\n",
              "        vertical-align: top;\n",
              "    }\n",
              "\n",
              "    .dataframe thead th {\n",
              "        text-align: right;\n",
              "    }\n",
              "</style>\n",
              "<table border=\"1\" class=\"dataframe\">\n",
              "  <thead>\n",
              "    <tr style=\"text-align: right;\">\n",
              "      <th></th>\n",
              "      <th>Close</th>\n",
              "      <th>prediction_col</th>\n",
              "    </tr>\n",
              "    <tr>\n",
              "      <th>Date</th>\n",
              "      <th></th>\n",
              "      <th></th>\n",
              "    </tr>\n",
              "  </thead>\n",
              "  <tbody>\n",
              "    <tr>\n",
              "      <th>2010-01-01</th>\n",
              "      <td>669.844609</td>\n",
              "      <td>682.804048</td>\n",
              "    </tr>\n",
              "    <tr>\n",
              "      <th>2010-01-04</th>\n",
              "      <td>661.160448</td>\n",
              "      <td>684.292761</td>\n",
              "    </tr>\n",
              "    <tr>\n",
              "      <th>2010-01-05</th>\n",
              "      <td>664.214219</td>\n",
              "      <td>686.144110</td>\n",
              "    </tr>\n",
              "    <tr>\n",
              "      <th>2010-01-06</th>\n",
              "      <td>653.945915</td>\n",
              "      <td>702.042804</td>\n",
              "    </tr>\n",
              "    <tr>\n",
              "      <th>2010-01-07</th>\n",
              "      <td>642.475188</td>\n",
              "      <td>691.869930</td>\n",
              "    </tr>\n",
              "    <tr>\n",
              "      <th>...</th>\n",
              "      <td>...</td>\n",
              "      <td>...</td>\n",
              "    </tr>\n",
              "    <tr>\n",
              "      <th>2018-12-25</th>\n",
              "      <td>2550.461719</td>\n",
              "      <td>NaN</td>\n",
              "    </tr>\n",
              "    <tr>\n",
              "      <th>2018-12-26</th>\n",
              "      <td>2559.775610</td>\n",
              "      <td>NaN</td>\n",
              "    </tr>\n",
              "    <tr>\n",
              "      <th>2018-12-27</th>\n",
              "      <td>2562.022177</td>\n",
              "      <td>NaN</td>\n",
              "    </tr>\n",
              "    <tr>\n",
              "      <th>2018-12-28</th>\n",
              "      <td>2543.768822</td>\n",
              "      <td>NaN</td>\n",
              "    </tr>\n",
              "    <tr>\n",
              "      <th>2018-12-31</th>\n",
              "      <td>2546.249406</td>\n",
              "      <td>NaN</td>\n",
              "    </tr>\n",
              "  </tbody>\n",
              "</table>\n",
              "<p>2347 rows × 2 columns</p>\n",
              "</div>"
            ],
            "text/plain": [
              "                  Close  prediction_col\n",
              "Date                                   \n",
              "2010-01-01   669.844609      682.804048\n",
              "2010-01-04   661.160448      684.292761\n",
              "2010-01-05   664.214219      686.144110\n",
              "2010-01-06   653.945915      702.042804\n",
              "2010-01-07   642.475188      691.869930\n",
              "...                 ...             ...\n",
              "2018-12-25  2550.461719             NaN\n",
              "2018-12-26  2559.775610             NaN\n",
              "2018-12-27  2562.022177             NaN\n",
              "2018-12-28  2543.768822             NaN\n",
              "2018-12-31  2546.249406             NaN\n",
              "\n",
              "[2347 rows x 2 columns]"
            ]
          },
          "metadata": {
            "tags": []
          },
          "execution_count": 227
        }
      ]
    },
    {
      "cell_type": "code",
      "metadata": {
        "id": "2HwqzgKsWla5",
        "colab_type": "code",
        "colab": {
          "base_uri": "https://localhost:8080/",
          "height": 391
        },
        "outputId": "00416eeb-261b-4dbe-a476-d0b41c1cc86b"
      },
      "source": [
        "x = np.array(cdf.drop(['prediction_col'],1))  #Close column alone, prediction_column is dropped\n",
        "x = x[:-forecast_out]                         #removing last 30 rows\n",
        "print(cdf)\n",
        "print(x)"
      ],
      "execution_count": 228,
      "outputs": [
        {
          "output_type": "stream",
          "text": [
            "                  Close  prediction_col\n",
            "Date                                   \n",
            "2010-01-01   669.844609      682.804048\n",
            "2010-01-04   661.160448      684.292761\n",
            "2010-01-05   664.214219      686.144110\n",
            "2010-01-06   653.945915      702.042804\n",
            "2010-01-07   642.475188      691.869930\n",
            "...                 ...             ...\n",
            "2018-12-25  2550.461719             NaN\n",
            "2018-12-26  2559.775610             NaN\n",
            "2018-12-27  2562.022177             NaN\n",
            "2018-12-28  2543.768822             NaN\n",
            "2018-12-31  2546.249406             NaN\n",
            "\n",
            "[2347 rows x 2 columns]\n",
            "[[ 669.844609]\n",
            " [ 661.160448]\n",
            " [ 664.214219]\n",
            " ...\n",
            " [2498.229042]\n",
            " [2523.034883]\n",
            " [2508.338592]]\n"
          ],
          "name": "stdout"
        }
      ]
    },
    {
      "cell_type": "code",
      "metadata": {
        "id": "gmh2eJcJdboi",
        "colab_type": "code",
        "colab": {
          "base_uri": "https://localhost:8080/",
          "height": 51
        },
        "outputId": "ccb94218-b552-43f2-b201-d362dc880b93"
      },
      "source": [
        "y = np.array(cdf['prediction_col'])   #prediction_column column alone, but this 1D, if you want 2D like x, give 1 more [] - cdf[['prediction_col']]\n",
        "y = y[:-forecast_out]                 #removing last 30 rows\n",
        "y                                     # x - feature, y - label/target. x is 2D(list of lists(but here 1D is represented in 2D)), y is 1D(list)\n",
        "                                      #so that 1 close column is mapped with every prediction_col in ML algo to create a model"
      ],
      "execution_count": 229,
      "outputs": [
        {
          "output_type": "execute_result",
          "data": {
            "text/plain": [
              "array([ 682.804048,  684.292761,  686.14411 , ..., 2562.022177,\n",
              "       2543.768822, 2546.249406])"
            ]
          },
          "metadata": {
            "tags": []
          },
          "execution_count": 229
        }
      ]
    },
    {
      "cell_type": "code",
      "metadata": {
        "id": "zz-63q-7ekDt",
        "colab_type": "code",
        "colab": {}
      },
      "source": [
        "x_train, x_test, y_train, y_test = train_test_split(x, y, test_size=0.2)   #split the data, 80% for training, 20% for testing "
      ],
      "execution_count": 230,
      "outputs": []
    },
    {
      "cell_type": "code",
      "metadata": {
        "id": "226IK_fXgpZr",
        "colab_type": "code",
        "colab": {
          "base_uri": "https://localhost:8080/",
          "height": 51
        },
        "outputId": "6b509f2b-e7d4-4600-f22b-f1076bd2bcb4"
      },
      "source": [
        "svr_rbf = SVR(kernel='rbf',C=1e3,gamma=0.1)        #construct/instanciate SVR algo class\n",
        "svr_rbf.fit(x_train,y_train)                       #fit/create a model with feature,lable/target"
      ],
      "execution_count": 231,
      "outputs": [
        {
          "output_type": "execute_result",
          "data": {
            "text/plain": [
              "SVR(C=1000.0, cache_size=200, coef0=0.0, degree=3, epsilon=0.1, gamma=0.1,\n",
              "    kernel='rbf', max_iter=-1, shrinking=True, tol=0.001, verbose=False)"
            ]
          },
          "metadata": {
            "tags": []
          },
          "execution_count": 231
        }
      ]
    },
    {
      "cell_type": "code",
      "metadata": {
        "id": "3f7eYPFriwcS",
        "colab_type": "code",
        "colab": {
          "base_uri": "https://localhost:8080/",
          "height": 34
        },
        "outputId": "d886cb0a-166f-403a-d30f-37a7e1946243"
      },
      "source": [
        "lr = LinearRegression()                      #construct/instanciate LinearRegression algo class\n",
        "lr.fit(x_train,y_train)                      #fit/create a model with feature,lable/target"
      ],
      "execution_count": 232,
      "outputs": [
        {
          "output_type": "execute_result",
          "data": {
            "text/plain": [
              "LinearRegression(copy_X=True, fit_intercept=True, n_jobs=None, normalize=False)"
            ]
          },
          "metadata": {
            "tags": []
          },
          "execution_count": 232
        }
      ]
    },
    {
      "cell_type": "code",
      "metadata": {
        "id": "wfK-7r1Nh121",
        "colab_type": "code",
        "colab": {
          "base_uri": "https://localhost:8080/",
          "height": 51
        },
        "outputId": "a693c834-7406-4da2-8826-a68cfb67b4dc"
      },
      "source": [
        "predict_score_svr = svr_rbf.score(x_test,y_test)   #get accurancy of predition of model created with trainf data, \n",
        "                                                   #by calling score(20%test_feature, 20%test_lable)\n",
        "print(predict_score_svr)\n",
        "predict_score_lr = lr.score(x_test,y_test)\n",
        "print(predict_score_lr)"
      ],
      "execution_count": 233,
      "outputs": [
        {
          "output_type": "stream",
          "text": [
            "0.8865150926756962\n",
            "0.9484523687700734\n"
          ],
          "name": "stdout"
        }
      ]
    },
    {
      "cell_type": "code",
      "metadata": {
        "id": "s4m1GZnIjefy",
        "colab_type": "code",
        "colab": {
          "base_uri": "https://localhost:8080/",
          "height": 544
        },
        "outputId": "622aa56a-f4c9-4abb-88db-5de2080ca627"
      },
      "source": [
        "x_forecast = np.array(cdf.drop(['prediction_col'],1))  #prediction_column column alone, but this 1D, if you want 2D like x, give 1 more [] - cdf[['prediction_col']]\n",
        "x_forecast = x_forecast[-forecast_out:]                #this time take only last 30\n",
        "print(x_forecast.shape)\n",
        "print(x_forecast)"
      ],
      "execution_count": 234,
      "outputs": [
        {
          "output_type": "stream",
          "text": [
            "(30, 1)\n",
            "[[2496.029279]\n",
            " [2438.133381]\n",
            " [2424.747587]\n",
            " [2424.747587]\n",
            " [2480.116097]\n",
            " [2433.453034]\n",
            " [2437.431329]\n",
            " [2549.853274]\n",
            " [2570.165982]\n",
            " [2561.086108]\n",
            " [2587.155643]\n",
            " [2587.38966 ]\n",
            " [2544.330464]\n",
            " [2608.076796]\n",
            " [2550.88295 ]\n",
            " [2564.455958]\n",
            " [2666.300318]\n",
            " [2654.786663]\n",
            " [2642.664563]\n",
            " [2659.3266  ]\n",
            " [2659.279797]\n",
            " [2679.966932]\n",
            " [2702.619814]\n",
            " [2628.904342]\n",
            " [2550.461719]\n",
            " [2550.461719]\n",
            " [2559.77561 ]\n",
            " [2562.022177]\n",
            " [2543.768822]\n",
            " [2546.249406]]\n"
          ],
          "name": "stdout"
        }
      ]
    },
    {
      "cell_type": "code",
      "metadata": {
        "id": "TABl_b-nloMg",
        "colab_type": "code",
        "colab": {
          "base_uri": "https://localhost:8080/",
          "height": 221
        },
        "outputId": "9357d52f-2e6d-4056-de29-9b5b27e873f3"
      },
      "source": [
        "svr_rbf_predict = svr_rbf.predict(x_forecast)   #svr model's predict..last 30 Close column's prediction_col(label) by passing feature alone\n",
        "print(svr_rbf_predict)\n",
        "lr_predict = lr.predict(x_forecast)            #lr model's predict..last 30 Close column's prediction_col(label) by passing feature alone\n",
        "print(lr_predict)                              #i.e. next 30 days forecast/prediction"
      ],
      "execution_count": 235,
      "outputs": [
        {
          "output_type": "stream",
          "text": [
            "[2547.35211842 2144.05820113 2422.38216069 2422.38216069 2514.86232106\n",
            " 2591.98751032 2233.55348215 2535.53202839 2525.04185484 2530.12225376\n",
            " 2452.5403076  2480.55672357 2522.31680195 2615.18947813 2508.34719385\n",
            " 2556.04503778 2413.07511484 2483.47256866 2508.40887202 2632.8558525\n",
            " 2630.82644966 2719.16006124 2600.26082698 2590.03598276 2517.52906105\n",
            " 2517.52906105 2541.10981626 2546.45077616 2485.69337663 2560.62884054]\n",
            "[2495.03412264 2439.39114717 2426.52623907 2426.52623907 2479.74017564\n",
            " 2434.89292809 2438.71641436 2546.76364644 2566.28591921 2557.5593734\n",
            " 2582.61445582 2582.83936644 2541.4557474  2602.72149697 2547.75325431\n",
            " 2560.79809129 2658.67934749 2647.61372722 2635.96333857 2651.97700013\n",
            " 2651.93201839 2671.81414795 2693.58553074 2622.73857367 2547.34841482\n",
            " 2547.34841482 2556.29987125 2558.45901683 2540.91596076 2543.30001697]\n"
          ],
          "name": "stdout"
        }
      ]
    }
  ]
}
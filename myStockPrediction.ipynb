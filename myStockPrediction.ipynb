{
  "nbformat": 4,
  "nbformat_minor": 0,
  "metadata": {
    "colab": {
      "name": "myStockPrediction.ipynb",
      "provenance": [],
      "collapsed_sections": [],
      "authorship_tag": "ABX9TyPzhNnFQr+V/yKTFb2HwZs0",
      "include_colab_link": true
    },
    "kernelspec": {
      "name": "python3",
      "display_name": "Python 3"
    }
  },
  "cells": [
    {
      "cell_type": "markdown",
      "metadata": {
        "id": "view-in-github",
        "colab_type": "text"
      },
      "source": [
        "<a href=\"https://colab.research.google.com/github/sab112/myfirstrepo/blob/master/myStockPrediction.ipynb\" target=\"_parent\"><img src=\"https://colab.research.google.com/assets/colab-badge.svg\" alt=\"Open In Colab\"/></a>"
      ]
    },
    {
      "cell_type": "code",
      "metadata": {
        "id": "8noVGdEJIBxg",
        "colab_type": "code",
        "colab": {}
      },
      "source": [
        "import quandl\n",
        "import pandas as pd\n",
        "import numpy as np\n",
        "from sklearn.linear_model import LinearRegression\n",
        "from sklearn.svm import SVR\n",
        "from sklearn.model_selection import train_test_split\n",
        "import matplotlib.pyplot as plt\n",
        "plt.style.use('fivethirtyeight')"
      ],
      "execution_count": 161,
      "outputs": []
    },
    {
      "cell_type": "code",
      "metadata": {
        "id": "4dFYkAcaJxe9",
        "colab_type": "code",
        "colab": {
          "base_uri": "https://localhost:8080/",
          "height": 450
        },
        "outputId": "9b3ac1af-b8b9-4f89-8817-5e7542da4fd8"
      },
      "source": [
        "quandl.ApiConfig.api_key='8sea8tfXW2CSAPzEYUoq'\n",
        "df= quandl.get('XNSE/BAJAJ_AUTO')\n",
        "df "
      ],
      "execution_count": 162,
      "outputs": [
        {
          "output_type": "execute_result",
          "data": {
            "text/html": [
              "<div>\n",
              "<style scoped>\n",
              "    .dataframe tbody tr th:only-of-type {\n",
              "        vertical-align: middle;\n",
              "    }\n",
              "\n",
              "    .dataframe tbody tr th {\n",
              "        vertical-align: top;\n",
              "    }\n",
              "\n",
              "    .dataframe thead th {\n",
              "        text-align: right;\n",
              "    }\n",
              "</style>\n",
              "<table border=\"1\" class=\"dataframe\">\n",
              "  <thead>\n",
              "    <tr style=\"text-align: right;\">\n",
              "      <th></th>\n",
              "      <th>Open</th>\n",
              "      <th>High</th>\n",
              "      <th>Low</th>\n",
              "      <th>Close</th>\n",
              "      <th>Volume</th>\n",
              "      <th>Adjustment Factor</th>\n",
              "      <th>Adjustment Type</th>\n",
              "    </tr>\n",
              "    <tr>\n",
              "      <th>Date</th>\n",
              "      <th></th>\n",
              "      <th></th>\n",
              "      <th></th>\n",
              "      <th></th>\n",
              "      <th></th>\n",
              "      <th></th>\n",
              "      <th></th>\n",
              "    </tr>\n",
              "  </thead>\n",
              "  <tbody>\n",
              "    <tr>\n",
              "      <th>2010-01-01</th>\n",
              "      <td>669.844609</td>\n",
              "      <td>669.844609</td>\n",
              "      <td>669.844609</td>\n",
              "      <td>669.844609</td>\n",
              "      <td>0.0</td>\n",
              "      <td>NaN</td>\n",
              "      <td>NaN</td>\n",
              "    </tr>\n",
              "    <tr>\n",
              "      <th>2010-01-04</th>\n",
              "      <td>673.738166</td>\n",
              "      <td>676.772851</td>\n",
              "      <td>658.488399</td>\n",
              "      <td>661.160448</td>\n",
              "      <td>381510.0</td>\n",
              "      <td>NaN</td>\n",
              "      <td>NaN</td>\n",
              "    </tr>\n",
              "    <tr>\n",
              "      <th>2010-01-05</th>\n",
              "      <td>667.554280</td>\n",
              "      <td>670.741654</td>\n",
              "      <td>652.743492</td>\n",
              "      <td>664.214219</td>\n",
              "      <td>463938.0</td>\n",
              "      <td>NaN</td>\n",
              "      <td>NaN</td>\n",
              "    </tr>\n",
              "    <tr>\n",
              "      <th>2010-01-06</th>\n",
              "      <td>668.012346</td>\n",
              "      <td>668.012346</td>\n",
              "      <td>650.892144</td>\n",
              "      <td>653.945915</td>\n",
              "      <td>465832.0</td>\n",
              "      <td>NaN</td>\n",
              "      <td>NaN</td>\n",
              "    </tr>\n",
              "    <tr>\n",
              "      <th>2010-01-07</th>\n",
              "      <td>657.705870</td>\n",
              "      <td>659.996198</td>\n",
              "      <td>639.421418</td>\n",
              "      <td>642.475188</td>\n",
              "      <td>329288.0</td>\n",
              "      <td>NaN</td>\n",
              "      <td>NaN</td>\n",
              "    </tr>\n",
              "    <tr>\n",
              "      <th>...</th>\n",
              "      <td>...</td>\n",
              "      <td>...</td>\n",
              "      <td>...</td>\n",
              "      <td>...</td>\n",
              "      <td>...</td>\n",
              "      <td>...</td>\n",
              "      <td>...</td>\n",
              "    </tr>\n",
              "    <tr>\n",
              "      <th>2018-12-25</th>\n",
              "      <td>2550.461719</td>\n",
              "      <td>2550.461719</td>\n",
              "      <td>2550.461719</td>\n",
              "      <td>2550.461719</td>\n",
              "      <td>0.0</td>\n",
              "      <td>NaN</td>\n",
              "      <td>NaN</td>\n",
              "    </tr>\n",
              "    <tr>\n",
              "      <th>2018-12-26</th>\n",
              "      <td>2540.211758</td>\n",
              "      <td>2574.003867</td>\n",
              "      <td>2499.305522</td>\n",
              "      <td>2559.775610</td>\n",
              "      <td>410582.0</td>\n",
              "      <td>NaN</td>\n",
              "      <td>NaN</td>\n",
              "    </tr>\n",
              "    <tr>\n",
              "      <th>2018-12-27</th>\n",
              "      <td>2587.202446</td>\n",
              "      <td>2587.296053</td>\n",
              "      <td>2524.204970</td>\n",
              "      <td>2562.022177</td>\n",
              "      <td>558049.0</td>\n",
              "      <td>NaN</td>\n",
              "      <td>NaN</td>\n",
              "    </tr>\n",
              "    <tr>\n",
              "      <th>2018-12-28</th>\n",
              "      <td>2577.841751</td>\n",
              "      <td>2583.504972</td>\n",
              "      <td>2538.386423</td>\n",
              "      <td>2543.768822</td>\n",
              "      <td>358369.0</td>\n",
              "      <td>NaN</td>\n",
              "      <td>NaN</td>\n",
              "    </tr>\n",
              "    <tr>\n",
              "      <th>2018-12-31</th>\n",
              "      <td>2562.958247</td>\n",
              "      <td>2586.359984</td>\n",
              "      <td>2536.748301</td>\n",
              "      <td>2546.249406</td>\n",
              "      <td>406069.0</td>\n",
              "      <td>NaN</td>\n",
              "      <td>NaN</td>\n",
              "    </tr>\n",
              "  </tbody>\n",
              "</table>\n",
              "<p>2347 rows × 7 columns</p>\n",
              "</div>"
            ],
            "text/plain": [
              "                   Open         High  ...  Adjustment Factor  Adjustment Type\n",
              "Date                                  ...                                    \n",
              "2010-01-01   669.844609   669.844609  ...                NaN              NaN\n",
              "2010-01-04   673.738166   676.772851  ...                NaN              NaN\n",
              "2010-01-05   667.554280   670.741654  ...                NaN              NaN\n",
              "2010-01-06   668.012346   668.012346  ...                NaN              NaN\n",
              "2010-01-07   657.705870   659.996198  ...                NaN              NaN\n",
              "...                 ...          ...  ...                ...              ...\n",
              "2018-12-25  2550.461719  2550.461719  ...                NaN              NaN\n",
              "2018-12-26  2540.211758  2574.003867  ...                NaN              NaN\n",
              "2018-12-27  2587.202446  2587.296053  ...                NaN              NaN\n",
              "2018-12-28  2577.841751  2583.504972  ...                NaN              NaN\n",
              "2018-12-31  2562.958247  2586.359984  ...                NaN              NaN\n",
              "\n",
              "[2347 rows x 7 columns]"
            ]
          },
          "metadata": {
            "tags": []
          },
          "execution_count": 162
        }
      ]
    },
    {
      "cell_type": "code",
      "metadata": {
        "id": "NRl1FL6pTRVj",
        "colab_type": "code",
        "colab": {
          "base_uri": "https://localhost:8080/",
          "height": 450
        },
        "outputId": "a48049e7-c23e-46c3-b431-bec38ea40018"
      },
      "source": [
        "cdf = df[['Close']] \n",
        "cdf "
      ],
      "execution_count": 163,
      "outputs": [
        {
          "output_type": "execute_result",
          "data": {
            "text/html": [
              "<div>\n",
              "<style scoped>\n",
              "    .dataframe tbody tr th:only-of-type {\n",
              "        vertical-align: middle;\n",
              "    }\n",
              "\n",
              "    .dataframe tbody tr th {\n",
              "        vertical-align: top;\n",
              "    }\n",
              "\n",
              "    .dataframe thead th {\n",
              "        text-align: right;\n",
              "    }\n",
              "</style>\n",
              "<table border=\"1\" class=\"dataframe\">\n",
              "  <thead>\n",
              "    <tr style=\"text-align: right;\">\n",
              "      <th></th>\n",
              "      <th>Close</th>\n",
              "    </tr>\n",
              "    <tr>\n",
              "      <th>Date</th>\n",
              "      <th></th>\n",
              "    </tr>\n",
              "  </thead>\n",
              "  <tbody>\n",
              "    <tr>\n",
              "      <th>2010-01-01</th>\n",
              "      <td>669.844609</td>\n",
              "    </tr>\n",
              "    <tr>\n",
              "      <th>2010-01-04</th>\n",
              "      <td>661.160448</td>\n",
              "    </tr>\n",
              "    <tr>\n",
              "      <th>2010-01-05</th>\n",
              "      <td>664.214219</td>\n",
              "    </tr>\n",
              "    <tr>\n",
              "      <th>2010-01-06</th>\n",
              "      <td>653.945915</td>\n",
              "    </tr>\n",
              "    <tr>\n",
              "      <th>2010-01-07</th>\n",
              "      <td>642.475188</td>\n",
              "    </tr>\n",
              "    <tr>\n",
              "      <th>...</th>\n",
              "      <td>...</td>\n",
              "    </tr>\n",
              "    <tr>\n",
              "      <th>2018-12-25</th>\n",
              "      <td>2550.461719</td>\n",
              "    </tr>\n",
              "    <tr>\n",
              "      <th>2018-12-26</th>\n",
              "      <td>2559.775610</td>\n",
              "    </tr>\n",
              "    <tr>\n",
              "      <th>2018-12-27</th>\n",
              "      <td>2562.022177</td>\n",
              "    </tr>\n",
              "    <tr>\n",
              "      <th>2018-12-28</th>\n",
              "      <td>2543.768822</td>\n",
              "    </tr>\n",
              "    <tr>\n",
              "      <th>2018-12-31</th>\n",
              "      <td>2546.249406</td>\n",
              "    </tr>\n",
              "  </tbody>\n",
              "</table>\n",
              "<p>2347 rows × 1 columns</p>\n",
              "</div>"
            ],
            "text/plain": [
              "                  Close\n",
              "Date                   \n",
              "2010-01-01   669.844609\n",
              "2010-01-04   661.160448\n",
              "2010-01-05   664.214219\n",
              "2010-01-06   653.945915\n",
              "2010-01-07   642.475188\n",
              "...                 ...\n",
              "2018-12-25  2550.461719\n",
              "2018-12-26  2559.775610\n",
              "2018-12-27  2562.022177\n",
              "2018-12-28  2543.768822\n",
              "2018-12-31  2546.249406\n",
              "\n",
              "[2347 rows x 1 columns]"
            ]
          },
          "metadata": {
            "tags": []
          },
          "execution_count": 163
        }
      ]
    },
    {
      "cell_type": "code",
      "metadata": {
        "id": "tvMglOYgUAel",
        "colab_type": "code",
        "colab": {
          "base_uri": "https://localhost:8080/",
          "height": 552
        },
        "outputId": "9f1f7779-37db-4f35-8453-4c65e65a0d3a"
      },
      "source": [
        "cdf['prediction_col'] = cdf[['Close']].shift(-1)\n",
        "cdf"
      ],
      "execution_count": 164,
      "outputs": [
        {
          "output_type": "stream",
          "text": [
            "/usr/local/lib/python3.6/dist-packages/ipykernel_launcher.py:1: SettingWithCopyWarning: \n",
            "A value is trying to be set on a copy of a slice from a DataFrame.\n",
            "Try using .loc[row_indexer,col_indexer] = value instead\n",
            "\n",
            "See the caveats in the documentation: https://pandas.pydata.org/pandas-docs/stable/user_guide/indexing.html#returning-a-view-versus-a-copy\n",
            "  \"\"\"Entry point for launching an IPython kernel.\n"
          ],
          "name": "stderr"
        },
        {
          "output_type": "execute_result",
          "data": {
            "text/html": [
              "<div>\n",
              "<style scoped>\n",
              "    .dataframe tbody tr th:only-of-type {\n",
              "        vertical-align: middle;\n",
              "    }\n",
              "\n",
              "    .dataframe tbody tr th {\n",
              "        vertical-align: top;\n",
              "    }\n",
              "\n",
              "    .dataframe thead th {\n",
              "        text-align: right;\n",
              "    }\n",
              "</style>\n",
              "<table border=\"1\" class=\"dataframe\">\n",
              "  <thead>\n",
              "    <tr style=\"text-align: right;\">\n",
              "      <th></th>\n",
              "      <th>Close</th>\n",
              "      <th>prediction_col</th>\n",
              "    </tr>\n",
              "    <tr>\n",
              "      <th>Date</th>\n",
              "      <th></th>\n",
              "      <th></th>\n",
              "    </tr>\n",
              "  </thead>\n",
              "  <tbody>\n",
              "    <tr>\n",
              "      <th>2010-01-01</th>\n",
              "      <td>669.844609</td>\n",
              "      <td>661.160448</td>\n",
              "    </tr>\n",
              "    <tr>\n",
              "      <th>2010-01-04</th>\n",
              "      <td>661.160448</td>\n",
              "      <td>664.214219</td>\n",
              "    </tr>\n",
              "    <tr>\n",
              "      <th>2010-01-05</th>\n",
              "      <td>664.214219</td>\n",
              "      <td>653.945915</td>\n",
              "    </tr>\n",
              "    <tr>\n",
              "      <th>2010-01-06</th>\n",
              "      <td>653.945915</td>\n",
              "      <td>642.475188</td>\n",
              "    </tr>\n",
              "    <tr>\n",
              "      <th>2010-01-07</th>\n",
              "      <td>642.475188</td>\n",
              "      <td>631.844249</td>\n",
              "    </tr>\n",
              "    <tr>\n",
              "      <th>...</th>\n",
              "      <td>...</td>\n",
              "      <td>...</td>\n",
              "    </tr>\n",
              "    <tr>\n",
              "      <th>2018-12-25</th>\n",
              "      <td>2550.461719</td>\n",
              "      <td>2559.775610</td>\n",
              "    </tr>\n",
              "    <tr>\n",
              "      <th>2018-12-26</th>\n",
              "      <td>2559.775610</td>\n",
              "      <td>2562.022177</td>\n",
              "    </tr>\n",
              "    <tr>\n",
              "      <th>2018-12-27</th>\n",
              "      <td>2562.022177</td>\n",
              "      <td>2543.768822</td>\n",
              "    </tr>\n",
              "    <tr>\n",
              "      <th>2018-12-28</th>\n",
              "      <td>2543.768822</td>\n",
              "      <td>2546.249406</td>\n",
              "    </tr>\n",
              "    <tr>\n",
              "      <th>2018-12-31</th>\n",
              "      <td>2546.249406</td>\n",
              "      <td>NaN</td>\n",
              "    </tr>\n",
              "  </tbody>\n",
              "</table>\n",
              "<p>2347 rows × 2 columns</p>\n",
              "</div>"
            ],
            "text/plain": [
              "                  Close  prediction_col\n",
              "Date                                   \n",
              "2010-01-01   669.844609      661.160448\n",
              "2010-01-04   661.160448      664.214219\n",
              "2010-01-05   664.214219      653.945915\n",
              "2010-01-06   653.945915      642.475188\n",
              "2010-01-07   642.475188      631.844249\n",
              "...                 ...             ...\n",
              "2018-12-25  2550.461719     2559.775610\n",
              "2018-12-26  2559.775610     2562.022177\n",
              "2018-12-27  2562.022177     2543.768822\n",
              "2018-12-28  2543.768822     2546.249406\n",
              "2018-12-31  2546.249406             NaN\n",
              "\n",
              "[2347 rows x 2 columns]"
            ]
          },
          "metadata": {
            "tags": []
          },
          "execution_count": 164
        }
      ]
    },
    {
      "cell_type": "code",
      "metadata": {
        "id": "2HwqzgKsWla5",
        "colab_type": "code",
        "colab": {
          "base_uri": "https://localhost:8080/",
          "height": 34
        },
        "outputId": "e9f8b5be-2e4e-46c7-f7e8-82e2a4260c9b"
      },
      "source": [
        "forecast_out = 30\n",
        "x = np.array(cdf.drop(['prediction_col'],1))\n",
        "x = x[:-forecast_out]\n",
        "x.shape"
      ],
      "execution_count": 165,
      "outputs": [
        {
          "output_type": "execute_result",
          "data": {
            "text/plain": [
              "(2317, 1)"
            ]
          },
          "metadata": {
            "tags": []
          },
          "execution_count": 165
        }
      ]
    },
    {
      "cell_type": "code",
      "metadata": {
        "id": "gmh2eJcJdboi",
        "colab_type": "code",
        "colab": {
          "base_uri": "https://localhost:8080/",
          "height": 51
        },
        "outputId": "07d2e970-248b-440c-99e5-3a44f5f41c89"
      },
      "source": [
        "y = np.array(cdf['prediction_col'])\n",
        "y = y[:-forecast_out]\n",
        "y"
      ],
      "execution_count": 166,
      "outputs": [
        {
          "output_type": "execute_result",
          "data": {
            "text/plain": [
              "array([ 661.160448,  664.214219,  653.945915, ..., 2523.034883,\n",
              "       2508.338592, 2496.029279])"
            ]
          },
          "metadata": {
            "tags": []
          },
          "execution_count": 166
        }
      ]
    },
    {
      "cell_type": "code",
      "metadata": {
        "id": "zz-63q-7ekDt",
        "colab_type": "code",
        "colab": {}
      },
      "source": [
        "x_train, x_test, y_train, y_test = train_test_split(x, y, test_size=0.2)"
      ],
      "execution_count": 167,
      "outputs": []
    },
    {
      "cell_type": "code",
      "metadata": {
        "id": "226IK_fXgpZr",
        "colab_type": "code",
        "colab": {
          "base_uri": "https://localhost:8080/",
          "height": 51
        },
        "outputId": "5cf8fb2d-e386-45b0-c29e-3286974a4345"
      },
      "source": [
        "svr_rbf = SVR(kernel='rbf',C=1e3,gamma=0.1)\n",
        "svr_rbf.fit(x_train,y_train)"
      ],
      "execution_count": 168,
      "outputs": [
        {
          "output_type": "execute_result",
          "data": {
            "text/plain": [
              "SVR(C=1000.0, cache_size=200, coef0=0.0, degree=3, epsilon=0.1, gamma=0.1,\n",
              "    kernel='rbf', max_iter=-1, shrinking=True, tol=0.001, verbose=False)"
            ]
          },
          "metadata": {
            "tags": []
          },
          "execution_count": 168
        }
      ]
    },
    {
      "cell_type": "code",
      "metadata": {
        "id": "3f7eYPFriwcS",
        "colab_type": "code",
        "colab": {
          "base_uri": "https://localhost:8080/",
          "height": 34
        },
        "outputId": "d3a421d5-bf0b-49dc-c47b-f1ad9dec6a5d"
      },
      "source": [
        "lr = LinearRegression()\n",
        "lr.fit(x_train,y_train)"
      ],
      "execution_count": 169,
      "outputs": [
        {
          "output_type": "execute_result",
          "data": {
            "text/plain": [
              "LinearRegression(copy_X=True, fit_intercept=True, n_jobs=None, normalize=False)"
            ]
          },
          "metadata": {
            "tags": []
          },
          "execution_count": 169
        }
      ]
    },
    {
      "cell_type": "code",
      "metadata": {
        "id": "wfK-7r1Nh121",
        "colab_type": "code",
        "colab": {
          "base_uri": "https://localhost:8080/",
          "height": 51
        },
        "outputId": "ec28e061-f6cc-4417-fffe-dc759a886c88"
      },
      "source": [
        "predict_score_svr = svr_rbf.score(x_test,y_test)\n",
        "print(predict_score_svr)\n",
        "predict_score_lr = lr.score(x_test,y_test)\n",
        "print(predict_score_lr)"
      ],
      "execution_count": 170,
      "outputs": [
        {
          "output_type": "stream",
          "text": [
            "0.943994965565659\n",
            "0.9978718929650252\n"
          ],
          "name": "stdout"
        }
      ]
    },
    {
      "cell_type": "code",
      "metadata": {
        "id": "s4m1GZnIjefy",
        "colab_type": "code",
        "colab": {
          "base_uri": "https://localhost:8080/",
          "height": 544
        },
        "outputId": "a991d2da-1577-47bd-a2cd-756c39c6214a"
      },
      "source": [
        "x_forecast = np.array(cdf.drop(['prediction_col'],1))\n",
        "x_forecast = x_forecast[-forecast_out:]\n",
        "print(x_forecast.shape)\n",
        "print(x_forecast)"
      ],
      "execution_count": 171,
      "outputs": [
        {
          "output_type": "stream",
          "text": [
            "(30, 1)\n",
            "[[2496.029279]\n",
            " [2438.133381]\n",
            " [2424.747587]\n",
            " [2424.747587]\n",
            " [2480.116097]\n",
            " [2433.453034]\n",
            " [2437.431329]\n",
            " [2549.853274]\n",
            " [2570.165982]\n",
            " [2561.086108]\n",
            " [2587.155643]\n",
            " [2587.38966 ]\n",
            " [2544.330464]\n",
            " [2608.076796]\n",
            " [2550.88295 ]\n",
            " [2564.455958]\n",
            " [2666.300318]\n",
            " [2654.786663]\n",
            " [2642.664563]\n",
            " [2659.3266  ]\n",
            " [2659.279797]\n",
            " [2679.966932]\n",
            " [2702.619814]\n",
            " [2628.904342]\n",
            " [2550.461719]\n",
            " [2550.461719]\n",
            " [2559.77561 ]\n",
            " [2562.022177]\n",
            " [2543.768822]\n",
            " [2546.249406]]\n"
          ],
          "name": "stdout"
        }
      ]
    },
    {
      "cell_type": "code",
      "metadata": {
        "id": "TABl_b-nloMg",
        "colab_type": "code",
        "colab": {
          "base_uri": "https://localhost:8080/",
          "height": 221
        },
        "outputId": "11ce94d2-ce93-4f30-a535-100661c95654"
      },
      "source": [
        "svr_rbf_predict = svr_rbf.predict(x_forecast)\n",
        "print(svr_rbf_predict)\n",
        "lr_predict = lr.predict(x_forecast)\n",
        "print(lr_predict)"
      ],
      "execution_count": 172,
      "outputs": [
        {
          "output_type": "stream",
          "text": [
            "[2517.85246892 2255.24596193 2504.10826197 2504.10826197 2430.09481175\n",
            " 2524.94967887 2236.90108053 2530.55307482 2554.7051917  2557.56023893\n",
            " 2588.4853947  2587.47432388 2529.74610291 2620.10633164 2546.38889608\n",
            " 2546.07402998 2130.17571653 2618.27341854 2648.15787382 2665.68292945\n",
            " 2664.98410766 2648.4179742  2711.52779821 2589.312594   2538.26798502\n",
            " 2538.26798502 2574.00079647 2555.48146585 2531.57267853 2549.54210812]\n",
            "[2495.74988845 2437.93226196 2424.56456469 2424.56456469 2479.85822004\n",
            " 2433.25824249 2437.23115909 2549.50111689 2569.78636342 2560.71876483\n",
            " 2586.7530555  2586.98675612 2543.98577337 2607.64592445 2550.52940084\n",
            " 2564.08405901 2665.79073202 2654.29264274 2642.18693103 2658.82644203\n",
            " 2658.77970231 2679.43886964 2702.06112641 2628.44531296 2550.10873931\n",
            " 2550.10873931 2559.41003853 2561.65356832 2543.42489068 2545.90212109]\n"
          ],
          "name": "stdout"
        }
      ]
    }
  ]
}